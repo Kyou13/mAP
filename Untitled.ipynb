{
 "cells": [
  {
   "cell_type": "code",
   "execution_count": 19,
   "metadata": {},
   "outputs": [],
   "source": [
    "import pandas as pd\n",
    "import json\n",
    "import numpy as np"
   ]
  },
  {
   "cell_type": "code",
   "execution_count": 29,
   "metadata": {},
   "outputs": [],
   "source": [
    "f = open('results/人あり　土_ssd/per_frame_results.txt')\n",
    "ssd_result = json.load(f)\n",
    "f = open('results/人あり　土_yolov3/per_frame_results.txt')\n",
    "yolo_result = json.load(f)"
   ]
  },
  {
   "cell_type": "code",
   "execution_count": 30,
   "metadata": {},
   "outputs": [
    {
     "ename": "FileNotFoundError",
     "evalue": "[Errno 2] No such file or directory: 'results/人あり\\u3000土_yolo/per_frame_results_fp.txt'",
     "output_type": "error",
     "traceback": [
      "\u001b[0;31m---------------------------------------------------------------------------\u001b[0m",
      "\u001b[0;31mFileNotFoundError\u001b[0m                         Traceback (most recent call last)",
      "\u001b[0;32m<ipython-input-30-ed6e6e215555>\u001b[0m in \u001b[0;36m<module>\u001b[0;34m()\u001b[0m\n\u001b[1;32m      1\u001b[0m \u001b[0mf\u001b[0m \u001b[0;34m=\u001b[0m \u001b[0mopen\u001b[0m\u001b[0;34m(\u001b[0m\u001b[0;34m'results/人あり　土_ssd/per_frame_results_fp.txt'\u001b[0m\u001b[0;34m)\u001b[0m\u001b[0;34m\u001b[0m\u001b[0m\n\u001b[1;32m      2\u001b[0m \u001b[0mssd_result_fp\u001b[0m \u001b[0;34m=\u001b[0m \u001b[0mjson\u001b[0m\u001b[0;34m.\u001b[0m\u001b[0mload\u001b[0m\u001b[0;34m(\u001b[0m\u001b[0mf\u001b[0m\u001b[0;34m)\u001b[0m\u001b[0;34m\u001b[0m\u001b[0m\n\u001b[0;32m----> 3\u001b[0;31m \u001b[0mf\u001b[0m \u001b[0;34m=\u001b[0m \u001b[0mopen\u001b[0m\u001b[0;34m(\u001b[0m\u001b[0;34m'results/人あり　土_yolo/per_frame_results_fp.txt'\u001b[0m\u001b[0;34m)\u001b[0m\u001b[0;34m\u001b[0m\u001b[0m\n\u001b[0m\u001b[1;32m      4\u001b[0m \u001b[0myolo_result_fp\u001b[0m \u001b[0;34m=\u001b[0m \u001b[0mjson\u001b[0m\u001b[0;34m.\u001b[0m\u001b[0mload\u001b[0m\u001b[0;34m(\u001b[0m\u001b[0mf\u001b[0m\u001b[0;34m)\u001b[0m\u001b[0;34m\u001b[0m\u001b[0m\n",
      "\u001b[0;31mFileNotFoundError\u001b[0m: [Errno 2] No such file or directory: 'results/人あり\\u3000土_yolo/per_frame_results_fp.txt'"
     ]
    }
   ],
   "source": [
    "f = open('results/人あり　土_ssd/per_frame_results_fp.txt')\n",
    "ssd_result_fp = json.load(f)\n",
    "f = open('results/人あり　土_yolo/per_frame_results_fp.txt')\n",
    "yolo_result_fp = json.load(f)"
   ]
  },
  {
   "cell_type": "code",
   "execution_count": 31,
   "metadata": {},
   "outputs": [
    {
     "name": "stdout",
     "output_type": "stream",
     "text": [
      "00031\n",
      "00121\n",
      "00151\n",
      "00181\n",
      "00301\n",
      "00331\n",
      "00451\n",
      "00481\n",
      "00571\n",
      "00601\n",
      "00631\n",
      "00811\n",
      "00871\n",
      "00931\n",
      "01051\n",
      "01321\n",
      "01351\n",
      "01411\n",
      "01441\n",
      "01501\n",
      "01531\n",
      "01711\n",
      "01921\n",
      "01951\n",
      "02251\n",
      "02371\n",
      "02401\n",
      "02551\n",
      "02971\n",
      "03151\n",
      "03331\n",
      "04081\n",
      "04231\n",
      "04321\n",
      "04351\n",
      "04381\n",
      "04411\n",
      "04741\n",
      "05161\n",
      "06421\n",
      "06451\n",
      "06481\n",
      "06511\n",
      "06541\n",
      "06571\n",
      "06601\n",
      "06631\n",
      "06691\n",
      "07111\n",
      "07141\n",
      "07171\n",
      "07201\n",
      "07231\n",
      "07261\n",
      "07351\n",
      "07441\n",
      "07711\n",
      "08191\n",
      "08221\n",
      "08251\n",
      "08311\n",
      "08761\n",
      "08911\n",
      "09001\n",
      "09151\n",
      "09361\n",
      "09721\n",
      "10261\n",
      "10441\n",
      "10801\n",
      "10831\n",
      "10861\n",
      "10891\n",
      "10921\n",
      "10951\n",
      "10981\n",
      "11011\n",
      "11401\n",
      "11641\n",
      "11731\n",
      "11941\n",
      "11971\n",
      "12031\n",
      "12031\n",
      "12091\n",
      "12121\n",
      "12241\n",
      "13591\n",
      "13621\n",
      "14131\n",
      "14611\n",
      "15091\n",
      "15121\n",
      "15511\n",
      "15541\n",
      "15691\n",
      "15901\n",
      "15931\n",
      "15961\n",
      "16021\n",
      "16231\n",
      "16291\n",
      "16321\n",
      "16351\n",
      "16381\n",
      "16411\n",
      "16591\n",
      "16681\n",
      "16711\n",
      "16741\n",
      "16771\n",
      "16801\n",
      "16831\n",
      "16861\n",
      "16921\n",
      "16981\n",
      "17011\n",
      "17071\n",
      "17101\n",
      "17161\n",
      "17191\n",
      "17281\n",
      "17311\n",
      "17431\n"
     ]
    }
   ],
   "source": [
    "# SSD, YOLO\n",
    "#      TP FN\n",
    "# TP\n",
    "# FN\n",
    "confusion_matrix = np.zeros((2,2))\n",
    "for i in ssd_result:\n",
    "    for ssd,yolo in zip(ssd_result[i],yolo_result[i]):\n",
    "        if (ssd['tp']  == 1) and (yolo['tp'] == 1):\n",
    "            confusion_matrix[0,0] += 1\n",
    "        elif (ssd['tp']  == 1) and (yolo['fn'] == 1):\n",
    "            confusion_matrix[0,1] += 1\n",
    "        elif (ssd['fn']  == 1) and (yolo['tp'] == 1):\n",
    "            confusion_matrix[1,0] += 1\n",
    "        else:\n",
    "            confusion_matrix[1,1] += 1\n",
    "            print(i)\n",
    "    "
   ]
  },
  {
   "cell_type": "code",
   "execution_count": 32,
   "metadata": {},
   "outputs": [
    {
     "data": {
      "text/plain": [
       "array([[239.,  25.],\n",
       "       [135., 124.]])"
      ]
     },
     "execution_count": 32,
     "metadata": {},
     "output_type": "execute_result"
    }
   ],
   "source": [
    "confusion_matrix"
   ]
  },
  {
   "cell_type": "code",
   "execution_count": 33,
   "metadata": {},
   "outputs": [
    {
     "name": "stdout",
     "output_type": "stream",
     "text": [
      "{'07381': ['365.493 152.324 564.936 441.389'], '08071': ['269.25 153.721 357.82 388.035'], '11761': ['374.461 146.567 575.136 447.509'], '14911': ['70.8505 184.158 309.853 484.152'], '15241': ['58.9071 199.236 350.967 482.678'], '16471': ['179.545 184.255 499.274 471.052'], '17071': ['171.118 224.793 351.708 387.076']}\n",
      "{'05491': ['174 147 267 331'], '08011': ['350 193 597 407'], '10021': ['313 109 334 188'], '10621': ['626 154 640 216'], '12001': ['325 107 345 168'], '12031': ['319 108 339 176'], '12991': ['412 115 432 181'], '16321': ['339 311 607 415']}\n"
     ]
    }
   ],
   "source": [
    "print(ssd_result_fp)\n",
    "print(yolo_result_fp)\n"
   ]
  },
  {
   "cell_type": "code",
   "execution_count": null,
   "metadata": {},
   "outputs": [],
   "source": [
    "# SSD, YOLO\n",
    "tp_tp = ssd_result[ssd_result['tp'] == yolo_result['tp']].sum()"
   ]
  },
  {
   "cell_type": "code",
   "execution_count": 28,
   "metadata": {},
   "outputs": [
    {
     "data": {
      "text/plain": [
       "fn     55\n",
       "fp      1\n",
       "gt    406\n",
       "tp    351\n",
       "dtype: int64"
      ]
     },
     "execution_count": 28,
     "metadata": {},
     "output_type": "execute_result"
    }
   ],
   "source": [
    "                    \n",
    "# tp_fn = ssd_result[(ssd_result['tp'] >= 1) & (yolo_result['fp'] >= 1)].sum()"
   ]
  },
  {
   "cell_type": "code",
   "execution_count": null,
   "metadata": {},
   "outputs": [],
   "source": []
  }
 ],
 "metadata": {
  "kernelspec": {
   "display_name": "Python 3",
   "language": "python",
   "name": "python3"
  },
  "language_info": {
   "codemirror_mode": {
    "name": "ipython",
    "version": 3
   },
   "file_extension": ".py",
   "mimetype": "text/x-python",
   "name": "python",
   "nbconvert_exporter": "python",
   "pygments_lexer": "ipython3",
   "version": "3.7.0"
  }
 },
 "nbformat": 4,
 "nbformat_minor": 2
}
